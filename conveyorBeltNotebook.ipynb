{
 "cells": [
  {
   "cell_type": "code",
   "execution_count": 60,
   "metadata": {},
   "outputs": [],
   "source": [
    "from tkinter import *\n",
    "from PIL import Image, ImageTk\n",
    "import numpy as np\n",
    "import cv2\n",
    "import tensorflow as ts\n",
    "from tensorflow.keras import layers, models\n",
    "import matplotlib.pyplot as plt\n",
    "import pickle"
   ]
  },
  {
   "cell_type": "code",
   "execution_count": 61,
   "metadata": {},
   "outputs": [],
   "source": [
    "def unpickle(file):\n",
    "    with open(file, 'rb') as fo:\n",
    "        dict = pickle.load(fo, encoding='bytes')\n",
    "    return dict"
   ]
  },
  {
   "cell_type": "code",
   "execution_count": 62,
   "metadata": {},
   "outputs": [
    {
     "name": "stdout",
     "output_type": "stream",
     "text": [
      "{0: b'aquatic_mammals', 1: b'fish', 2: b'flowers', 3: b'food_containers', 4: b'fruit_and_vegetables', 5: b'household_electrical_devices', 6: b'household_furniture', 7: b'insects', 8: b'large_carnivores', 9: b'large_man-made_outdoor_things', 10: b'large_natural_outdoor_scenes', 11: b'large_omnivores_and_herbivores', 12: b'medium_mammals', 13: b'non-insect_invertebrates', 14: b'people', 15: b'reptiles', 16: b'small_mammals', 17: b'trees', 18: b'vehicles_1', 19: b'vehicles_2'}\n"
     ]
    }
   ],
   "source": [
    "BaseDataPath = \"./CifarHundredDataset/\"\n",
    "MetaDataPath =  BaseDataPath + \"meta\"\n",
    "metadata = unpickle(MetaDataPath)\n",
    "superclass_dict = dict(list(enumerate(metadata[b'coarse_label_names'])))\n",
    "print(superclass_dict)"
   ]
  },
  {
   "cell_type": "code",
   "execution_count": 63,
   "metadata": {},
   "outputs": [
    {
     "name": "stdout",
     "output_type": "stream",
     "text": [
      "{0: b'apple', 1: b'aquarium_fish', 2: b'baby', 3: b'bear', 4: b'beaver', 5: b'bed', 6: b'bee', 7: b'beetle', 8: b'bicycle', 9: b'bottle', 10: b'bowl', 11: b'boy', 12: b'bridge', 13: b'bus', 14: b'butterfly', 15: b'camel', 16: b'can', 17: b'castle', 18: b'caterpillar', 19: b'cattle', 20: b'chair', 21: b'chimpanzee', 22: b'clock', 23: b'cloud', 24: b'cockroach', 25: b'couch', 26: b'crab', 27: b'crocodile', 28: b'cup', 29: b'dinosaur', 30: b'dolphin', 31: b'elephant', 32: b'flatfish', 33: b'forest', 34: b'fox', 35: b'girl', 36: b'hamster', 37: b'house', 38: b'kangaroo', 39: b'keyboard', 40: b'lamp', 41: b'lawn_mower', 42: b'leopard', 43: b'lion', 44: b'lizard', 45: b'lobster', 46: b'man', 47: b'maple_tree', 48: b'motorcycle', 49: b'mountain', 50: b'mouse', 51: b'mushroom', 52: b'oak_tree', 53: b'orange', 54: b'orchid', 55: b'otter', 56: b'palm_tree', 57: b'pear', 58: b'pickup_truck', 59: b'pine_tree', 60: b'plain', 61: b'plate', 62: b'poppy', 63: b'porcupine', 64: b'possum', 65: b'rabbit', 66: b'raccoon', 67: b'ray', 68: b'road', 69: b'rocket', 70: b'rose', 71: b'sea', 72: b'seal', 73: b'shark', 74: b'shrew', 75: b'skunk', 76: b'skyscraper', 77: b'snail', 78: b'snake', 79: b'spider', 80: b'squirrel', 81: b'streetcar', 82: b'sunflower', 83: b'sweet_pepper', 84: b'table', 85: b'tank', 86: b'telephone', 87: b'television', 88: b'tiger', 89: b'tractor', 90: b'train', 91: b'trout', 92: b'tulip', 93: b'turtle', 94: b'wardrobe', 95: b'whale', 96: b'willow_tree', 97: b'wolf', 98: b'woman', 99: b'worm'}\n"
     ]
    }
   ],
   "source": [
    "# metadata.keys()\n",
    "fineclass_dict = dict(list(enumerate(metadata[b'fine_label_names'])))\n",
    "print(fineclass_dict)"
   ]
  },
  {
   "cell_type": "code",
   "execution_count": 64,
   "metadata": {},
   "outputs": [],
   "source": [
    "data_train_path = BaseDataPath + \"train\"\n",
    "data_test_path = BaseDataPath + \"test\"\n",
    "\n",
    "data_train_dict = unpickle(data_train_path)\n",
    "data_test_dict = unpickle(data_test_path)\n",
    "\n",
    "\n",
    "# Get data (change the coarse_labels if you want to use the 100 classes)\n",
    "data_train = data_train_dict[b'data']\n",
    "label_train = np.array(data_train_dict[b'coarse_labels'])\n",
    "data_test = data_test_dict[b'data']\n",
    "label_test = np.array(data_test_dict[b'coarse_labels'])\n",
    "fine_labels_train = np.array(data_train_dict[b'fine_labels'])\n",
    "fine_labels_test = np.array(data_test_dict[b'fine_labels'])"
   ]
  },
  {
   "cell_type": "code",
   "execution_count": 65,
   "metadata": {},
   "outputs": [
    {
     "name": "stdout",
     "output_type": "stream",
     "text": [
      "[19 29  0 ...  3  7 73]\n"
     ]
    },
    {
     "data": {
      "text/plain": [
       "(50000,)"
      ]
     },
     "execution_count": 65,
     "metadata": {},
     "output_type": "execute_result"
    }
   ],
   "source": [
    "print(fine_labels_train)\n",
    "fine_labels_train.shape"
   ]
  },
  {
   "cell_type": "code",
   "execution_count": 66,
   "metadata": {},
   "outputs": [
    {
     "name": "stdout",
     "output_type": "stream",
     "text": [
      "[49 33 72 ... 51 42 70]\n"
     ]
    },
    {
     "data": {
      "text/plain": [
       "(10000,)"
      ]
     },
     "execution_count": 66,
     "metadata": {},
     "output_type": "execute_result"
    }
   ],
   "source": [
    "print(fine_labels_test)\n",
    "fine_labels_test.shape"
   ]
  },
  {
   "cell_type": "code",
   "execution_count": 67,
   "metadata": {},
   "outputs": [
    {
     "name": "stdout",
     "output_type": "stream",
     "text": [
      "dict_keys([b'filenames', b'batch_label', b'fine_labels', b'coarse_labels', b'data'])\n"
     ]
    }
   ],
   "source": [
    "print(data_train_dict.keys())"
   ]
  },
  {
   "cell_type": "code",
   "execution_count": 68,
   "metadata": {},
   "outputs": [
    {
     "name": "stdout",
     "output_type": "stream",
     "text": [
      "[11 15  4 ...  8  7  1]\n"
     ]
    },
    {
     "data": {
      "text/plain": [
       "(50000,)"
      ]
     },
     "execution_count": 68,
     "metadata": {},
     "output_type": "execute_result"
    }
   ],
   "source": [
    "print(label_train)\n",
    "label_train.shape"
   ]
  },
  {
   "cell_type": "code",
   "execution_count": 69,
   "metadata": {},
   "outputs": [
    {
     "data": {
      "text/plain": [
       "(50000, 3072)"
      ]
     },
     "execution_count": 69,
     "metadata": {},
     "output_type": "execute_result"
    }
   ],
   "source": [
    "# print(label_train)\n",
    "data_train.shape"
   ]
  },
  {
   "cell_type": "code",
   "execution_count": 70,
   "metadata": {},
   "outputs": [
    {
     "data": {
      "text/plain": [
       "(50000, 32, 32, 3)"
      ]
     },
     "execution_count": 70,
     "metadata": {},
     "output_type": "execute_result"
    }
   ],
   "source": [
    "data_train = data_train.reshape(len(data_train), 3,32,32)\n",
    "data_train = data_train.transpose(0,2,3,1)\n",
    "data_train.shape"
   ]
  },
  {
   "cell_type": "code",
   "execution_count": 71,
   "metadata": {},
   "outputs": [
    {
     "data": {
      "text/plain": [
       "(10000, 32, 32, 3)"
      ]
     },
     "execution_count": 71,
     "metadata": {},
     "output_type": "execute_result"
    }
   ],
   "source": [
    "data_test = data_test.reshape(len(data_test), 3,32,32)\n",
    "data_test = data_test.transpose(0,2,3,1)\n",
    "data_test.shape"
   ]
  },
  {
   "cell_type": "code",
   "execution_count": 72,
   "metadata": {},
   "outputs": [
    {
     "name": "stdout",
     "output_type": "stream",
     "text": [
      "[[[[255 255 255]\n",
      "   [255 255 255]\n",
      "   [255 255 255]\n",
      "   ...\n",
      "   [195 205 193]\n",
      "   [212 224 204]\n",
      "   [182 194 167]]\n",
      "\n",
      "  [[255 255 255]\n",
      "   [254 254 254]\n",
      "   [254 254 254]\n",
      "   ...\n",
      "   [170 176 150]\n",
      "   [161 168 130]\n",
      "   [146 154 113]]\n",
      "\n",
      "  [[255 255 255]\n",
      "   [254 254 254]\n",
      "   [255 255 255]\n",
      "   ...\n",
      "   [189 199 169]\n",
      "   [166 178 130]\n",
      "   [121 133  87]]\n",
      "\n",
      "  ...\n",
      "\n",
      "  [[148 185  79]\n",
      "   [142 182  57]\n",
      "   [140 179  60]\n",
      "   ...\n",
      "   [ 30  17   1]\n",
      "   [ 65  62  15]\n",
      "   [ 76  77  20]]\n",
      "\n",
      "  [[122 157  66]\n",
      "   [120 155  58]\n",
      "   [126 160  71]\n",
      "   ...\n",
      "   [ 22  16   3]\n",
      "   [ 97 112  56]\n",
      "   [141 161  87]]\n",
      "\n",
      "  [[ 87 122  41]\n",
      "   [ 88 122  39]\n",
      "   [101 134  56]\n",
      "   ...\n",
      "   [ 34  36  10]\n",
      "   [105 133  59]\n",
      "   [138 173  79]]]\n",
      "\n",
      "\n",
      " [[[255 255 255]\n",
      "   [253 253 253]\n",
      "   [253 253 253]\n",
      "   ...\n",
      "   [253 253 253]\n",
      "   [253 253 253]\n",
      "   [255 255 255]]\n",
      "\n",
      "  [[255 255 255]\n",
      "   [255 255 255]\n",
      "   [255 255 255]\n",
      "   ...\n",
      "   [255 255 255]\n",
      "   [255 255 255]\n",
      "   [255 255 255]]\n",
      "\n",
      "  [[255 255 255]\n",
      "   [255 255 255]\n",
      "   [255 255 255]\n",
      "   ...\n",
      "   [255 255 255]\n",
      "   [255 255 255]\n",
      "   [255 255 255]]\n",
      "\n",
      "  ...\n",
      "\n",
      "  [[255 255 255]\n",
      "   [255 255 255]\n",
      "   [255 255 255]\n",
      "   ...\n",
      "   [255 255 255]\n",
      "   [255 255 255]\n",
      "   [255 255 255]]\n",
      "\n",
      "  [[255 255 255]\n",
      "   [255 255 255]\n",
      "   [255 255 255]\n",
      "   ...\n",
      "   [255 255 255]\n",
      "   [255 255 255]\n",
      "   [255 255 255]]\n",
      "\n",
      "  [[255 255 255]\n",
      "   [253 253 253]\n",
      "   [253 253 253]\n",
      "   ...\n",
      "   [253 253 253]\n",
      "   [253 253 253]\n",
      "   [255 255 255]]]\n",
      "\n",
      "\n",
      " [[[250 250 248]\n",
      "   [248 249 243]\n",
      "   [247 248 239]\n",
      "   ...\n",
      "   [250 250 246]\n",
      "   [250 250 246]\n",
      "   [249 250 246]]\n",
      "\n",
      "  [[250 251 245]\n",
      "   [248 249 238]\n",
      "   [247 247 234]\n",
      "   ...\n",
      "   [251 251 242]\n",
      "   [251 252 243]\n",
      "   [250 251 243]]\n",
      "\n",
      "  [[251 251 244]\n",
      "   [250 248 237]\n",
      "   [250 245 233]\n",
      "   ...\n",
      "   [250 249 238]\n",
      "   [250 249 240]\n",
      "   [250 249 242]]\n",
      "\n",
      "  ...\n",
      "\n",
      "  [[221 213 191]\n",
      "   [221 206 176]\n",
      "   [225 207 181]\n",
      "   ...\n",
      "   [199 176 134]\n",
      "   [207 193 165]\n",
      "   [233 229 226]]\n",
      "\n",
      "  [[225 223 204]\n",
      "   [227 219 196]\n",
      "   [229 216 200]\n",
      "   ...\n",
      "   [204 185 151]\n",
      "   [212 201 180]\n",
      "   [234 232 228]]\n",
      "\n",
      "  [[233 233 226]\n",
      "   [234 232 224]\n",
      "   [235 230 225]\n",
      "   ...\n",
      "   [219 209 194]\n",
      "   [223 216 207]\n",
      "   [232 230 228]]]\n",
      "\n",
      "\n",
      " ...\n",
      "\n",
      "\n",
      " [[[248 244 242]\n",
      "   [240 232 223]\n",
      "   [236 232 223]\n",
      "   ...\n",
      "   [233 229 222]\n",
      "   [230 228 222]\n",
      "   [238 237 233]]\n",
      "\n",
      "  [[225 213 204]\n",
      "   [186 167 149]\n",
      "   [175 159 140]\n",
      "   ...\n",
      "   [163 148 134]\n",
      "   [156 144 133]\n",
      "   [192 184 176]]\n",
      "\n",
      "  [[209 194 179]\n",
      "   [144 120  95]\n",
      "   [139 115  87]\n",
      "   ...\n",
      "   [109  86  67]\n",
      "   [109  90  76]\n",
      "   [157 145 135]]\n",
      "\n",
      "  ...\n",
      "\n",
      "  [[161 159 153]\n",
      "   [ 39  34  28]\n",
      "   [ 28  20  14]\n",
      "   ...\n",
      "   [ 93  72  53]\n",
      "   [ 85  67  50]\n",
      "   [136 126 115]]\n",
      "\n",
      "  [[181 179 172]\n",
      "   [ 86  83  77]\n",
      "   [ 71  68  62]\n",
      "   ...\n",
      "   [122 103  89]\n",
      "   [105  92  82]\n",
      "   [151 145 141]]\n",
      "\n",
      "  [[224 223 218]\n",
      "   [180 180 175]\n",
      "   [173 172 167]\n",
      "   ...\n",
      "   [196 187 180]\n",
      "   [183 178 174]\n",
      "   [204 205 205]]]\n",
      "\n",
      "\n",
      " [[[156 154 137]\n",
      "   [151 146 123]\n",
      "   [151 144 125]\n",
      "   ...\n",
      "   [155 150 129]\n",
      "   [152 148 125]\n",
      "   [186 184 163]]\n",
      "\n",
      "  [[110 106  77]\n",
      "   [116 108  62]\n",
      "   [114 101  57]\n",
      "   ...\n",
      "   [116 106  61]\n",
      "   [111 103  56]\n",
      "   [134 129  92]]\n",
      "\n",
      "  [[116 112  82]\n",
      "   [124 118  66]\n",
      "   [128 118  67]\n",
      "   ...\n",
      "   [ 99  84  43]\n",
      "   [101  87  43]\n",
      "   [129 118  86]]\n",
      "\n",
      "  ...\n",
      "\n",
      "  [[109 101  74]\n",
      "   [112 100  54]\n",
      "   [118 105  62]\n",
      "   ...\n",
      "   [126 113  65]\n",
      "   [126 111  61]\n",
      "   [138 124  89]]\n",
      "\n",
      "  [[ 98  92  63]\n",
      "   [ 93  82  35]\n",
      "   [ 96  83  38]\n",
      "   ...\n",
      "   [112  96  47]\n",
      "   [109  92  45]\n",
      "   [127 113  80]]\n",
      "\n",
      "  [[170 167 145]\n",
      "   [160 153 118]\n",
      "   [163 152 119]\n",
      "   ...\n",
      "   [161 151 114]\n",
      "   [156 144 107]\n",
      "   [163 154 126]]]\n",
      "\n",
      "\n",
      " [[[ 31  67 122]\n",
      "   [ 30  68 124]\n",
      "   [ 31  69 126]\n",
      "   ...\n",
      "   [ 32  70 129]\n",
      "   [ 32  70 125]\n",
      "   [ 32  69 122]]\n",
      "\n",
      "  [[ 29  68 126]\n",
      "   [ 28  69 128]\n",
      "   [ 30  69 130]\n",
      "   ...\n",
      "   [ 32  70 131]\n",
      "   [ 32  69 127]\n",
      "   [ 31  69 124]]\n",
      "\n",
      "  [[ 30  67 126]\n",
      "   [ 29  68 128]\n",
      "   [ 30  69 130]\n",
      "   ...\n",
      "   [ 32  72 132]\n",
      "   [ 31  70 130]\n",
      "   [ 30  69 127]]\n",
      "\n",
      "  ...\n",
      "\n",
      "  [[ 39  41  76]\n",
      "   [ 38  42  76]\n",
      "   [ 38  44  78]\n",
      "   ...\n",
      "   [ 39  44  79]\n",
      "   [ 38  42  77]\n",
      "   [ 39  41  76]]\n",
      "\n",
      "  [[ 40  39  73]\n",
      "   [ 39  40  74]\n",
      "   [ 39  41  76]\n",
      "   ...\n",
      "   [ 39  41  76]\n",
      "   [ 40  41  74]\n",
      "   [ 40  39  73]]\n",
      "\n",
      "  [[ 40  39  70]\n",
      "   [ 40  39  71]\n",
      "   [ 40  39  72]\n",
      "   ...\n",
      "   [ 41  38  72]\n",
      "   [ 39  38  69]\n",
      "   [ 40  37  67]]]]\n"
     ]
    }
   ],
   "source": [
    "print(data_train)"
   ]
  },
  {
   "cell_type": "code",
   "execution_count": 73,
   "metadata": {},
   "outputs": [
    {
     "data": {
      "text/plain": [
       "Text(0.5, 0, 'Test Image')"
      ]
     },
     "execution_count": 73,
     "metadata": {},
     "output_type": "execute_result"
    },
    {
     "data": {
      "image/png": "[encoded data removed]",
      "text/plain": [
       "<Figure size 640x480 with 1 Axes>"
      ]
     },
     "metadata": {},
     "output_type": "display_data"
    }
   ],
   "source": [
    "plt.imshow(data_train[0])\n",
    "plt.xlabel(\"Test Image\")"
   ]
  },
  {
   "cell_type": "code",
   "execution_count": 74,
   "metadata": {},
   "outputs": [
    {
     "name": "stdout",
     "output_type": "stream",
     "text": [
      "[28  9 61 ... 16 16 16]\n"
     ]
    },
    {
     "data": {
      "text/plain": [
       "(2500,)"
      ]
     },
     "execution_count": 74,
     "metadata": {},
     "output_type": "execute_result"
    }
   ],
   "source": [
    "mask = (label_train == 3)\n",
    "mask_test = (label_test == 3)\n",
    "\n",
    "# If you also want to extract corresponding labels\n",
    "selected_labels_train = label_train[mask]\n",
    "selected_labels_test = label_test[mask_test]\n",
    "\n",
    "\n",
    "selected_fine_labels_train = fine_labels_train[mask]\n",
    "print(selected_fine_labels_train)\n",
    "selected_fine_labels_train.shape"
   ]
  },
  {
   "cell_type": "code",
   "execution_count": 75,
   "metadata": {},
   "outputs": [
    {
     "name": "stdout",
     "output_type": "stream",
     "text": [
      "[16 61  9 10  9 10 16 10  9 28 28 16 16 28 16 28 10 61  9 10 10 10 28 16\n",
      " 10 10 16 10  9 28  9 10  9 61 28 10 61 61 61 10 16 16  9 10 10 16 28  9\n",
      " 10 28  9  9 16 28 10  9 16 28 61  9  9 28 61 16 28 28 28 16  9 61 28 10\n",
      " 16 28  9  9 10 28 28 28  9 61  9 16 16 10  9 61 16 61 16 61 10 61 10 61\n",
      " 10 16 61 28 10 28 16 28 10 28 28  9 61  9 61 28 61  9 16 16 10 28 16 10\n",
      " 28 28 16 61 10 10 10  9 61 61 61 10  9  9 16 61 16  9 16 16 28 28 16 10\n",
      " 10 61 16 28 61 10 10 61  9 16 61  9 61 16  9 16  9 10 10 10 16  9 10  9\n",
      "  9 16 10 28 10  9 16 10  9 10 16 28  9 10 16 28  9 28 16 16 28 28 61 10\n",
      " 10 28 10 61 10  9  9 28 16 10 61 61 61  9  9 16 61 10 16 61 10 61 61  9\n",
      " 61  9  9 10 16 10 10 10 10 16 61 28 28 61 61 28  9  9 61  9 10 61  9 16\n",
      " 10 28 16 16 28  9  9 61 16 28  9 10 61  9 28 10 28 61 61 28 28 16 16 61\n",
      " 10 16 16 61  9 61 61 61 28 61 28 28 16  9 10 16 28 28 10 28 16 16 16 28\n",
      " 61  9 10 16  9 16 28 28 16 28 10 16 16 61 28  9 16 61  9  9  9 10 61 16\n",
      " 16 28 10 10  9 28 61 16  9 28 28  9  9 61  9 28 10 10 10 61  9 16  9  9\n",
      " 10 16 10 10 61 28  9 28 61 28 16 10  9 28 10 10  9  9 28 61  9 61 28 16\n",
      "  9  9 10 16 61 28 28  9 61 61 10 61 61  9  9  9 10 28  9 16 61 16 10 61\n",
      " 16 61 28 61 61  9 61 10 28 16 10 10 10 61  9 16 16 28 10 10 61 16  9  9\n",
      " 61 28 28 61 61 61 61 28 61 16  9  9 10 16 28 61 28 16 28  9 16 61 28 16\n",
      " 16 61 10 10 28 16 61 16  9 10 28 61 28 28 10 16 61 28 16  9 16 28 28  9\n",
      "  9 61 61 16 10  9 61  9 28 28 16 61 10 16  9  9 61 10 61 28 61 10 28 16\n",
      " 28 16 10 61 16 16 28 10 28  9 61 10  9 10 61  9 28 16  9 16]\n"
     ]
    },
    {
     "data": {
      "text/plain": [
       "(500,)"
      ]
     },
     "execution_count": 75,
     "metadata": {},
     "output_type": "execute_result"
    }
   ],
   "source": [
    "selected_fine_labels_test = fine_labels_test[mask_test]\n",
    "print(selected_fine_labels_test)\n",
    "selected_fine_labels_test.shape"
   ]
  },
  {
   "cell_type": "code",
   "execution_count": 76,
   "metadata": {},
   "outputs": [
    {
     "data": {
      "text/plain": [
       "(2500, 32, 32, 3)"
      ]
     },
     "execution_count": 76,
     "metadata": {},
     "output_type": "execute_result"
    }
   ],
   "source": [
    "# Use the mask to extract images corresponding to the selected labels\n",
    "# selected_images = images[mask]\n",
    "selected_images_train = data_train[mask]\n",
    "selected_images_train.shape"
   ]
  },
  {
   "cell_type": "code",
   "execution_count": 77,
   "metadata": {},
   "outputs": [
    {
     "data": {
      "text/plain": [
       "(500, 32, 32, 3)"
      ]
     },
     "execution_count": 77,
     "metadata": {},
     "output_type": "execute_result"
    }
   ],
   "source": [
    "selected_images_test = data_test[mask_test]\n",
    "selected_images_test.shape"
   ]
  },
  {
   "cell_type": "code",
   "execution_count": 78,
   "metadata": {},
   "outputs": [],
   "source": [
    "# Manual label mapping\n",
    "label_map = {\n",
    "    9: 0,\n",
    "    10: 1,\n",
    "    16: 2,\n",
    "    28: 3,\n",
    "    61: 4\n",
    "}"
   ]
  },
  {
   "cell_type": "code",
   "execution_count": 79,
   "metadata": {},
   "outputs": [
    {
     "name": "stdout",
     "output_type": "stream",
     "text": [
      "[3 0 4 ... 2 2 2]\n"
     ]
    },
    {
     "data": {
      "text/plain": [
       "(2500,)"
      ]
     },
     "execution_count": 79,
     "metadata": {},
     "output_type": "execute_result"
    }
   ],
   "source": [
    "labelsTrainEncoded = np.array([label_map[label] for label in selected_fine_labels_train])\n",
    "labelsTestEncoded = np.array([label_map[label] for label in selected_fine_labels_test])\n",
    "print(labelsTrainEncoded)\n",
    "labelsTrainEncoded.shape"
   ]
  },
  {
   "cell_type": "code",
   "execution_count": 80,
   "metadata": {},
   "outputs": [
    {
     "data": {
      "text/plain": [
       "array([16, 61,  9, 10,  9, 10, 16, 10,  9, 28, 28, 16, 16, 28, 16, 28, 10,\n",
       "       61,  9, 10, 10, 10, 28, 16, 10, 10, 16, 10,  9, 28,  9, 10,  9, 61,\n",
       "       28, 10, 61, 61, 61, 10, 16, 16,  9, 10, 10, 16, 28,  9, 10, 28,  9,\n",
       "        9, 16, 28, 10,  9, 16, 28, 61,  9,  9, 28, 61, 16, 28, 28, 28, 16,\n",
       "        9, 61, 28, 10, 16, 28,  9,  9, 10, 28, 28, 28,  9, 61,  9, 16, 16,\n",
       "       10,  9, 61, 16, 61, 16, 61, 10, 61, 10, 61, 10, 16, 61, 28, 10, 28,\n",
       "       16, 28, 10, 28, 28,  9, 61,  9, 61, 28, 61,  9, 16, 16, 10, 28, 16,\n",
       "       10, 28, 28, 16, 61, 10, 10, 10,  9, 61, 61, 61, 10,  9,  9, 16, 61,\n",
       "       16,  9, 16, 16, 28, 28, 16, 10, 10, 61, 16, 28, 61, 10, 10, 61,  9,\n",
       "       16, 61,  9, 61, 16,  9, 16,  9, 10, 10, 10, 16,  9, 10,  9,  9, 16,\n",
       "       10, 28, 10,  9, 16, 10,  9, 10, 16, 28,  9, 10, 16, 28,  9, 28, 16,\n",
       "       16, 28, 28, 61, 10, 10, 28, 10, 61, 10,  9,  9, 28, 16, 10, 61, 61,\n",
       "       61,  9,  9, 16, 61, 10, 16, 61, 10, 61, 61,  9, 61,  9,  9, 10, 16,\n",
       "       10, 10, 10, 10, 16, 61, 28, 28, 61, 61, 28,  9,  9, 61,  9, 10, 61,\n",
       "        9, 16, 10, 28, 16, 16, 28,  9,  9, 61, 16, 28,  9, 10, 61,  9, 28,\n",
       "       10, 28, 61, 61, 28, 28, 16, 16, 61, 10, 16, 16, 61,  9, 61, 61, 61,\n",
       "       28, 61, 28, 28, 16,  9, 10, 16, 28, 28, 10, 28, 16, 16, 16, 28, 61,\n",
       "        9, 10, 16,  9, 16, 28, 28, 16, 28, 10, 16, 16, 61, 28,  9, 16, 61,\n",
       "        9,  9,  9, 10, 61, 16, 16, 28, 10, 10,  9, 28, 61, 16,  9, 28, 28,\n",
       "        9,  9, 61,  9, 28, 10, 10, 10, 61,  9, 16,  9,  9, 10, 16, 10, 10,\n",
       "       61, 28,  9, 28, 61, 28, 16, 10,  9, 28, 10, 10,  9,  9, 28, 61,  9,\n",
       "       61, 28, 16,  9,  9, 10, 16, 61, 28, 28,  9, 61, 61, 10, 61, 61,  9,\n",
       "        9,  9, 10, 28,  9, 16, 61, 16, 10, 61, 16, 61, 28, 61, 61,  9, 61,\n",
       "       10, 28, 16, 10, 10, 10, 61,  9, 16, 16, 28, 10, 10, 61, 16,  9,  9,\n",
       "       61, 28, 28, 61, 61, 61, 61, 28, 61, 16,  9,  9, 10, 16, 28, 61, 28,\n",
       "       16, 28,  9, 16, 61, 28, 16, 16, 61, 10, 10, 28, 16, 61, 16,  9, 10,\n",
       "       28, 61, 28, 28, 10, 16, 61, 28, 16,  9, 16, 28, 28,  9,  9, 61, 61,\n",
       "       16, 10,  9, 61,  9, 28, 28, 16, 61, 10, 16,  9,  9, 61, 10, 61, 28,\n",
       "       61, 10, 28, 16, 28, 16, 10, 61, 16, 16, 28, 10, 28,  9, 61, 10,  9,\n",
       "       10, 61,  9, 28, 16,  9, 16])"
      ]
     },
     "execution_count": 80,
     "metadata": {},
     "output_type": "execute_result"
    }
   ],
   "source": [
    "selected_fine_labels_train \n",
    "selected_fine_labels_test"
   ]
  },
  {
   "cell_type": "code",
   "execution_count": 81,
   "metadata": {},
   "outputs": [],
   "source": [
    "# Normalize selected data\n",
    "X_train = selected_images_train / 255\n",
    "X_test = selected_images_test / 255\n",
    "y_train = labelsTrainEncoded\n",
    "y_test = labelsTestEncoded"
   ]
  },
  {
   "cell_type": "code",
   "execution_count": 82,
   "metadata": {},
   "outputs": [],
   "source": [
    "\n",
    "\n",
    "cnn = models.Sequential([\n",
    "    layers.Conv2D(filters=32, kernel_size=(3,3), activation= 'relu', input_shape= (32,32,3)),\n",
    "    layers.MaxPooling2D((2,2)),\n",
    "\n",
    "    layers.Conv2D(filters=64, kernel_size=(3,3), activation= 'relu', input_shape= (32,32,3)),\n",
    "    layers.MaxPooling2D((2,2)),\n",
    "\n",
    "    layers.Flatten(),\n",
    "    layers.Dense(64, activation='relu'),\n",
    "    layers.Dense(5, activation='softmax')\n",
    "])"
   ]
  },
  {
   "cell_type": "code",
   "execution_count": 83,
   "metadata": {},
   "outputs": [],
   "source": [
    "cnn.compile(optimizer = 'adam',\n",
    "            loss = 'sparse_categorical_crossentropy',\n",
    "            metrics = ['accuracy']\n",
    "            )"
   ]
  },
  {
   "cell_type": "code",
   "execution_count": 84,
   "metadata": {},
   "outputs": [
    {
     "name": "stdout",
     "output_type": "stream",
     "text": [
      "Epoch 1/15\n",
      "\u001b[1m79/79\u001b[0m \u001b[32m━━━━━━━━━━━━━━━━━━━━\u001b[0m\u001b[37m\u001b[0m \u001b[1m8s\u001b[0m 65ms/step - accuracy: 0.2630 - loss: 1.5857\n",
      "Epoch 2/15\n",
      "\u001b[1m79/79\u001b[0m \u001b[32m━━━━━━━━━━━━━━━━━━━━\u001b[0m\u001b[37m\u001b[0m \u001b[1m5s\u001b[0m 63ms/step - accuracy: 0.5185 - loss: 1.2264\n",
      "Epoch 3/15\n",
      "\u001b[1m79/79\u001b[0m \u001b[32m━━━━━━━━━━━━━━━━━━━━\u001b[0m\u001b[37m\u001b[0m \u001b[1m5s\u001b[0m 61ms/step - accuracy: 0.5948 - loss: 1.0686\n",
      "Epoch 4/15\n",
      "\u001b[1m79/79\u001b[0m \u001b[32m━━━━━━━━━━━━━━━━━━━━\u001b[0m\u001b[37m\u001b[0m \u001b[1m5s\u001b[0m 63ms/step - accuracy: 0.6596 - loss: 0.9028\n",
      "Epoch 5/15\n",
      "\u001b[1m79/79\u001b[0m \u001b[32m━━━━━━━━━━━━━━━━━━━━\u001b[0m\u001b[37m\u001b[0m \u001b[1m5s\u001b[0m 66ms/step - accuracy: 0.7119 - loss: 0.7906\n",
      "Epoch 6/15\n",
      "\u001b[1m79/79\u001b[0m \u001b[32m━━━━━━━━━━━━━━━━━━━━\u001b[0m\u001b[37m\u001b[0m \u001b[1m11s\u001b[0m 75ms/step - accuracy: 0.7358 - loss: 0.7199\n",
      "Epoch 7/15\n",
      "\u001b[1m79/79\u001b[0m \u001b[32m━━━━━━━━━━━━━━━━━━━━\u001b[0m\u001b[37m\u001b[0m \u001b[1m5s\u001b[0m 67ms/step - accuracy: 0.7390 - loss: 0.6919\n",
      "Epoch 8/15\n",
      "\u001b[1m79/79\u001b[0m \u001b[32m━━━━━━━━━━━━━━━━━━━━\u001b[0m\u001b[37m\u001b[0m \u001b[1m5s\u001b[0m 67ms/step - accuracy: 0.7429 - loss: 0.6800\n",
      "Epoch 9/15\n",
      "\u001b[1m79/79\u001b[0m \u001b[32m━━━━━━━━━━━━━━━━━━━━\u001b[0m\u001b[37m\u001b[0m \u001b[1m10s\u001b[0m 64ms/step - accuracy: 0.7915 - loss: 0.5858\n",
      "Epoch 10/15\n",
      "\u001b[1m79/79\u001b[0m \u001b[32m━━━━━━━━━━━━━━━━━━━━\u001b[0m\u001b[37m\u001b[0m \u001b[1m5s\u001b[0m 66ms/step - accuracy: 0.8279 - loss: 0.5012\n",
      "Epoch 11/15\n",
      "\u001b[1m79/79\u001b[0m \u001b[32m━━━━━━━━━━━━━━━━━━━━\u001b[0m\u001b[37m\u001b[0m \u001b[1m5s\u001b[0m 65ms/step - accuracy: 0.8218 - loss: 0.4844\n",
      "Epoch 12/15\n",
      "\u001b[1m79/79\u001b[0m \u001b[32m━━━━━━━━━━━━━━━━━━━━\u001b[0m\u001b[37m\u001b[0m \u001b[1m5s\u001b[0m 69ms/step - accuracy: 0.8342 - loss: 0.4659\n",
      "Epoch 13/15\n",
      "\u001b[1m79/79\u001b[0m \u001b[32m━━━━━━━━━━━━━━━━━━━━\u001b[0m\u001b[37m\u001b[0m \u001b[1m5s\u001b[0m 65ms/step - accuracy: 0.8714 - loss: 0.3694\n",
      "Epoch 14/15\n",
      "\u001b[1m79/79\u001b[0m \u001b[32m━━━━━━━━━━━━━━━━━━━━\u001b[0m\u001b[37m\u001b[0m \u001b[1m5s\u001b[0m 66ms/step - accuracy: 0.8798 - loss: 0.3356\n",
      "Epoch 15/15\n",
      "\u001b[1m79/79\u001b[0m \u001b[32m━━━━━━━━━━━━━━━━━━━━\u001b[0m\u001b[37m\u001b[0m \u001b[1m5s\u001b[0m 69ms/step - accuracy: 0.9033 - loss: 0.2821\n"
     ]
    },
    {
     "data": {
      "text/plain": [
       "<keras.src.callbacks.history.History at 0x1d7405cf020>"
      ]
     },
     "execution_count": 84,
     "metadata": {},
     "output_type": "execute_result"
    }
   ],
   "source": [
    "cnn.fit(X_train, y_train, epochs=15)"
   ]
  },
  {
   "cell_type": "markdown",
   "metadata": {},
   "source": [
    "Save the model"
   ]
  },
  {
   "cell_type": "code",
   "execution_count": null,
   "metadata": {},
   "outputs": [],
   "source": [
    "# cnn.save(\"ConvBeltCNNTenFlow.keras\")"
   ]
  }
 ],
 "metadata": {
  "kernelspec": {
   "display_name": "base",
   "language": "python",
   "name": "python3"
  },
  "language_info": {
   "codemirror_mode": {
    "name": "ipython",
    "version": 3
   },
   "file_extension": ".py",
   "mimetype": "text/x-python",
   "name": "python",
   "nbconvert_exporter": "python",
   "pygments_lexer": "ipython3",
   "version": "3.12.7"
  }
 },
 "nbformat": 4,
 "nbformat_minor": 2
}
